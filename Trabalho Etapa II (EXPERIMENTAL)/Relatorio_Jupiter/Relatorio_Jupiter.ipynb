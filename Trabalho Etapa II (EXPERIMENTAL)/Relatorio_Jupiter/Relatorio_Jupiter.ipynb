{
 "cells": [
  {
   "cell_type": "markdown",
   "metadata": {},
   "source": [
    "<div style=\"display: flex; border-bottom: 1px solid black;\">\n",
    "    <div style=\"display: block; margin-bottom: 20px;\">\n",
    "        <img src=\"Imagens/ufsc.png\" alt=\"Drawing\" style=\"padding: 3px; width: 100px; margin-top: 20px;\"/>     \n",
    "    </div>  \n",
    "    <div style=\"display: block; margin-top: 20px; margin-left: 10px;\">\n",
    "        <h1>Universidade Federal de Santa Catarina</h1>\n",
    "        <h2>EMB5602 Controle Digital - Relatório Trabalho Técnico</h2>\n",
    "        <h3>Aluno: Danilo Jose da Silva Matricula: 16150413</h3>\n",
    "    </div> \n",
    "</div>"
   ]
  },
  {
   "cell_type": "markdown",
   "metadata": {},
   "source": [
    "<h2>1- Montagem do Sistema</h2>\n",
    "\n",
    "<div style=\"margin-top: 20px;\">\n",
    "    A primeira etapa de montagem do trabalho experimental consistiu em adquirir os componentes necessários para a montagem do sistema. Os componentes utilizados foram um microcontrolador que nesse caso é o arduino UNO, um motor CC, disco encoder e encoder. Como o motor CC consome no máximo 300mA o dimensionamento do resistor, capacitor, diodo e transistor se baseou nessa premissa. Sendo resistor com 270 <span>&#8486;</span>, capacitor com 1<span>&#xb5;</span>F, diodo 1N4007 e transistor NPN PN2222 que são comumente utilizados no mercado. \n",
    "</div>      \n",
    "\n",
    "<div style=\"padding: 5px;\">\n",
    "    <div style=\"display: flex; align-items: center; justify-content: center;\">\n",
    "        <img src=\"Imagens/montagem01.jpeg\" alt=\"Drawing\" style=\"width: 50%; margin-top: 20px; margin-left: -20px;\"/> \n",
    "        <img src=\"Imagens/montagem03.jpeg\" alt=\"Drawing\" style=\"width: 50%; margin-top: 20px;\"/>\n",
    "    </div>  \n",
    "     <div style=\"display: flex; align-items: center; justify-content: center;\">\n",
    "        <img src=\"Imagens/montagem02.jpeg\" alt=\"Drawing\" style=\"width: 50%; margin-top: 20px;\"/>                \n",
    "    </div>\n",
    "</div>\n",
    "\n",
    "<div style=\"margin-top: 20px;\">\n",
    "    Nas imagens do sistema é possivel notar que houve uma preocupação em sua montagem pois como se sabe essa etapa é a base para os proximos passos. O motor foi deixado o mais isolado possivel do circuito afim de evitar interferências e sua fixação foi pensada para que não houvesse vibrações por parte dele no momento em que estivesse em operação. \n",
    "</div> "
   ]
  },
  {
   "cell_type": "markdown",
   "metadata": {},
   "source": [
    "<h2>2- Ensaios do Sistema</h2>\n",
    "\n",
    "<h3>2.1 Ganho Estático</h3>\n",
    "<div style=\"margin-top: 20px;\">\n",
    "   Para encontrar a relação estática K do sistema foi aplicado sucessivos comandos de tensão de diferentes valores. O primeiro ponto do experimento foi identificar a região de operação do motor em que o encoder conseguiria medir o rpm sem compromenter a medição e claro dos 20 furos no disco encoder só foi deixado 2 a amostra pois foi notado que com 20 furos não era possivel realizar a leitura pelo encoder. Também realizando varios experimentos foi identificado uma região segura de operação do motor com o encoder, que seria na faixa de 1.75V à 2.25V valores fora dessa faixa ficavam inconsistentes e sujeitos a variações bruscas.   \n",
    "</div>      \n",
    "\n",
    "<div style=\"padding: 5px;\">\n",
    "    <div style=\"display: flex; align-items: center; justify-content: center;\">\n",
    "        <img src=\"Imagens/medicoes.png\" alt=\"Drawing\" style=\"width: 50%; margin-top: 20px; margin-left: -20px;\"/> \n",
    "        <img src=\"Imagens/grafico_medicoes.png\" alt=\"Drawing\" style=\"width: 50%; margin-top: 20px;\"/>\n",
    "    </div>      \n",
    "</div>\n",
    "\n",
    "<div style=\"margin-top: 20px;\">\n",
    "    Conforme se pode observar na primeira imagem foi coletado dados para cada faixa de tensão, sendo as faixas de 1.75, 1.95, 2.15 e 2.25V onde para cada tem tensão há 1000 medições de velocidade e no fim realizado uma média desses dados e plotando os 4 pontos chegamos em uma reta que relaciona a tensão com o rpm do motor. Em seguida no excel se faz um ajuste de curva dos pontos obtendo uma equação que relaciona o rpm com a tensão na faixa de 1.75 à 2.25V, sendo a equação:    \n",
    "</div> \n",
    "\n",
    "\\begin{equation}\n",
    "RPM = 7269,7v - 10117 \\newline\n",
    "\\end{equation}\n",
    "\n",
    "<div>\n",
    "    onde: <i>v</i> é a tensão aplicada no motor na faixa de 1.75 à 2.25V. Com isso se chega a um ganho estático:    \n",
    "</div>\n",
    "\n",
    "\\begin{equation}\n",
    "K = 7269,7 \\newline\n",
    "\\end{equation}\n",
    "\n",
    "<h3>2.2 Saída Transitória de Velocidade</h3>\n",
    "<div style=\"margin-top: 20px;\">\n",
    "    Para a obtenção da saida transitória de velocidade foi escolhido uma tensão na faixa em que foi gerado a reta de rpm por tensão. Nesse caso foi optado em trabalhar na tensão de 1.95V para gerar a saída transitória de velocidade pois o valor se encontra na faixa segura de medição.\n",
    "</div>      \n",
    "\n",
    "<div style=\"padding: 5px;\">\n",
    "    <div style=\"display: flex; align-items: center; justify-content: center;\">\n",
    "        <img src=\"Imagens/saida_transitoria_velocidade.png\" alt=\"Drawing\" style=\"width: 50%; margin-top: 20px; margin-left: -20px;\"/> \n",
    "        <img src=\"Imagens/grafico_saida_transitoria_velocidade.png\" alt=\"Drawing\" style=\"width: 50%; margin-top: 20px;\"/>\n",
    "    </div>      \n",
    "</div>\n",
    "\n",
    "<div style=\"margin-top: 20px;\">\n",
    "    Submetido o motor a tesão escolhida as medições foram armazenadas até atingir um certo regime em estado estácionario, o intervalo de um ponto a outro no gráfico da figura 2 é de <strong>100ms</strong> ou seja é o tempo que o microcontrolador tem para realizar todas as suas tarefas até retornar os dados na serial. O arquivo excel com todos esses dados se encontram na pasta <strong>Ensaios_Sistema</strong> desse projeto.\n",
    "</div> "
   ]
  },
  {
   "cell_type": "markdown",
   "metadata": {},
   "source": [
    "<h2>3- Projeto de Controle Digital</h2>\n",
    "<h3>3.1 Obtenção da função de transferência</h3>\n",
    "<div style=\"margin-top: 20px;\">\n",
    "    Na etapa do projeto de controle digital é primeiramente obtido a função de transferência para o sistema em questão. Analisando o gráfico da saída transitória de velocidade notamos alguns itens importantes, o primeiro item é que o sistema se assemelha a um sistema de primeira ordem ou a um sistema de segunda ordem criticamente amortecido, como nesse caso a análise fica a meu critério resolvi adotar que meu sistema é criticamente amortecido, ou seja <strong><span>&#950;=1</span></strong>. Uma segunda análise no gráfico de saída transitória de velocidade notamos que o tempo de acomodação é aproximadamente <strong>0.8s</strong> pois o intervalo de um ponto a outro é de 0.1s. Com isso obtido, chegamos ao valor frequência natural do sistema:     \n",
    "</div>    \n",
    "\n",
    "\\begin{equation}\n",
    "T_s = \\frac{4}{\\zeta W_n}\\newline\n",
    "W_n = \\frac{4}{\\zeta T_s} = \\frac{4}{0.8} = 5 \\frac{rad}{s}\n",
    "\\end{equation}\n",
    "\n",
    "Sabendo que um sistema de segunda ordem é dado por:\n",
    "\n",
    "\\begin{equation}\n",
    "G(s) = \\frac{K W_n^2}{s^2 + 2\\zeta W_ns + W_n^2}\n",
    "\\end{equation}\n",
    "\n",
    "Substituindo pelos valores obtidos chegamos a nossa equação caracterisca do sistema para o intervalo de tensão de 1.75 à 2.25V:\n",
    "\n",
    "\\begin{equation}\n",
    "G(s) = \\frac{1.817E5}{s^2 + 10s + 25}\n",
    "\\end{equation}"
   ]
  },
  {
   "cell_type": "code",
   "execution_count": null,
   "metadata": {},
   "outputs": [],
   "source": [
    "pkg load control\n",
    "s = tf('s');\n",
    "K = 7269.7;\n",
    "Wn = 5;\n",
    "zeta = 1;\n",
    "G = (K*Wn^2)/(s^2+2*zeta*Wn*s+Wn^2)\n",
    "step(G,3)"
   ]
  },
  {
   "cell_type": "markdown",
   "metadata": {},
   "source": [
    "<h3>3.2  Projeto do Controlador Digital Deadbeat</h3>\n",
    "<div style=\"margin-top: 20px;\">\n",
    "    Primeiramente realizando uma análise de que o tempo de acomodação é aproximadamente <strong>0.8s</strong> e que por se tratar se um sistema criticamente amortecido e considerarmos que 10 pontos já são suficentes para amostrar meu sistema em malha aberta de forma satisfatoria teremos um tempo de amostragem igual:    \n",
    "</div>  \n",
    "\n",
    "\\begin{equation}\n",
    "T_s = 0.08s\n",
    "\\end{equation}\n",
    "\n",
    "Realizando a plotagem do gráfico no dominio Z via ZOH dado o tempo de amostragem definido temos a resposta para o sistema em malha aberta:"
   ]
  },
  {
   "cell_type": "code",
   "execution_count": null,
   "metadata": {},
   "outputs": [],
   "source": [
    "T_s = 0.08;\n",
    "G_zoh = c2d(G, T_s, 'zoh')\n",
    "step(G, G_zoh, 3)"
   ]
  },
  {
   "cell_type": "markdown",
   "metadata": {},
   "source": [
    "Dado nossa função de transferência no dominio Z via ZOH:\n",
    "\n",
    "\\begin{equation}\n",
    "G(z) = \\frac{447.5z + 342.7}{z^2 - 1.341z + 0.4493}\n",
    "\\end{equation}\n",
    "\n",
    "Sabendo que o controlador é dado por:\n",
    "\n",
    "\\begin{equation}\n",
    "C(z) = \\frac{KN_c}{(z-1)D_c}\n",
    "\\end{equation}"
   ]
  },
  {
   "cell_type": "markdown",
   "metadata": {},
   "source": [
    "\n",
    "\n"
   ]
  },
  {
   "cell_type": "markdown",
   "metadata": {},
   "source": [
    "### 6. Pacotes do Octave\n",
    "\n",
    "Da mesma forma que no Octave, no Jupyter vc precisa chamar os pacotes caso queira executar algo mais especial e próprio de um \"toolbox\" do Octave. Obviamente esses pacotes precisam estar previamente instalados na sua máquina. Olha a célula abaixo:"
   ]
  },
  {
   "cell_type": "code",
   "execution_count": null,
   "metadata": {},
   "outputs": [],
   "source": [
    "pkg load control;\n",
    "s = tf('s');\n",
    "G = 5/(s+2);\n",
    "step(G)"
   ]
  },
  {
   "cell_type": "markdown",
   "metadata": {},
   "source": [
    "### 7. Usando o Octave para mostrar arquivo png, jpg, etc.\n",
    "\n",
    "Se você tiver o pacote \"image\" instalado no seu Octave, voce pode usá-lo para mostrar uma figura e enriquecer ainda mais seu relatório. Veja na célula abaixo."
   ]
  },
  {
   "cell_type": "code",
   "execution_count": null,
   "metadata": {},
   "outputs": [],
   "source": [
    "pkg load image;\n",
    "imshow('ufsc.png');"
   ]
  },
  {
   "cell_type": "markdown",
   "metadata": {},
   "source": [
    "### Conclusão\n",
    "\n",
    "Moleza. Entregar um relatório assim ajuda vc e seu professor. E lembre-se, a primeira impressão é sempre a que fica, ainda mais para trabalhos que valem pontinhos preciosos!\n",
    "\n",
    "Bora trabalhar?"
   ]
  },
  {
   "cell_type": "code",
   "execution_count": null,
   "metadata": {},
   "outputs": [],
   "source": []
  },
  {
   "cell_type": "code",
   "execution_count": null,
   "metadata": {},
   "outputs": [],
   "source": []
  },
  {
   "cell_type": "code",
   "execution_count": null,
   "metadata": {},
   "outputs": [],
   "source": []
  },
  {
   "cell_type": "code",
   "execution_count": null,
   "metadata": {},
   "outputs": [],
   "source": []
  },
  {
   "cell_type": "code",
   "execution_count": null,
   "metadata": {},
   "outputs": [],
   "source": []
  }
 ],
 "metadata": {
  "kernelspec": {
   "display_name": "Octave",
   "language": "octave",
   "name": "octave"
  },
  "language_info": {
   "codemirror_mode": {
    "name": "ipython",
    "version": 3
   },
   "file_extension": ".py",
   "mimetype": "text/x-python",
   "name": "python",
   "nbconvert_exporter": "python",
   "pygments_lexer": "ipython3",
   "version": "3.8.8"
  }
 },
 "nbformat": 4,
 "nbformat_minor": 4
}
