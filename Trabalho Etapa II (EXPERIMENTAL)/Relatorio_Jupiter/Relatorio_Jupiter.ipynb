{
 "cells": [
  {
   "cell_type": "markdown",
   "metadata": {},
   "source": [
    "# Nome da Disciplina (EMBxxxx)\n",
    "\n",
    "## 1ª Etapa do Trabalho Técnico\n",
    "\n",
    "### Aluno A (matrícula), Aluno B (matrícula), Aluno C (matrícula)"
   ]
  },
  {
   "cell_type": "markdown",
   "metadata": {},
   "source": [
    "### 1. Como funciona o Jupyter?\n",
    "\n",
    "O Jupyter baseia-se em células executadas individualmente. Há basicamente dois tipos de células mais importantes: de texto (Markdown) e de Código (Code). \n",
    "\n",
    "Para criar uma célula, você vai em \"Insert\" >> \"Cell Above\" ou \"Cell Bellow\". Para selecionar o tipo de célula, vá em \"Cell\" >> \"Cell Type\".\n",
    "\n",
    "Uma célula pode ser editada clicando duas vezes nela. Esta, por exemplo, é uma célula de texto (Markdown).\n",
    "\n",
    "Logo após editada a célula, você pode executá-la usando o \"Run\" acima, desde que ela esteja marcada para edição."
   ]
  },
  {
   "cell_type": "markdown",
   "metadata": {},
   "source": [
    "### 2. Escrevendo um texto no Jupyter\n",
    "\n",
    "Você pode usar o Jupyter para gerar livremente um texto, inclusive com comandos LaTex. É claro que você vai ter que estudar um pouquinho, mas o resultado promete ser muito bom (pro aluno e pro prof.). Por exemplo, você pode dizer que $\\alpha=5$, ou que $\\zeta=0,7$. Ou mesmo que $\\omega_n = \\sqrt{\\frac{1}{LC}}$...\n",
    "\n",
    "A única coisa que você não pode esquecer para gerar uma célula de texto como esta é escolher \"Cell\" >> \"Cell Type\" >> \"Markdown\" ...\n",
    "\n",
    "Ah, o tipo de fonte pode ser selecionado também. Se você simplesmente escrever algo (como nesta linha), o Jupyter vai interpretar como um texto normal.  \n",
    "\n",
    "Para criar uma linha de título, você pode usar:\n",
    "# isso\n",
    "## isso\n",
    "### isso\n",
    "#### ou mesmo isso"
   ]
  },
  {
   "cell_type": "markdown",
   "metadata": {},
   "source": [
    "### 3. Escrevendo uma fórmula em LaTeX \n",
    "\n",
    "O Jupyter é muito legal. Ele permite que você crie textos já usando simbologia do LaTeX. Isso é muito bom pra escrever fórmulas... Já dei uns exemplos acima (entre $$). \n",
    "\n",
    "É claro que algumas fórmulas mais complicadas ficam melhor em uma linha separada do texto. Isso é feito em uma célula \"Markdown\" dessa forma:\n",
    "$$G(s) = \\frac{\\omega_n^2}{s^2+2\\zeta\\omega_ns+\\omega_n^2} $$\n",
    "\n",
    "Se vc não sabe nada de LaTeX, essa tabela de símbolos pode lhe ser bem útil: https://oeis.org/wiki/List_of_LaTeX_mathematical_symbols"
   ]
  },
  {
   "cell_type": "markdown",
   "metadata": {},
   "source": [
    "### 4. Executando um código Octave\n",
    "\n",
    "Uma das características mais interessantes do Jupyter é que ele executa comandos do Octave, C, Python, etc, desde que os programas estejam instalados em sua máquina e você fez a instalação do Jupyter adequadamente. Para isso, você precisa criar uma célula de Código como a abaixo. Rodando \"Run\" nela, ela é executada como se o fosse o Octave. Muito louco!"
   ]
  },
  {
   "cell_type": "code",
   "execution_count": null,
   "metadata": {},
   "outputs": [],
   "source": [
    "zeta=0.45;\n",
    "PSS=100*exp(-zeta*pi/sqrt(1-zeta^2));\n",
    "fprintf('O percentual de sobressinal vale: %3.1f',PSS);"
   ]
  },
  {
   "cell_type": "markdown",
   "metadata": {},
   "source": [
    "### 5. Produzindo um gráfico Octave\n",
    "\n",
    "Se seu problema é apresentar um gráfico, então já era! Com o Jupyter é moleza, mesmo para os corações mais peludos. Olha a célula abaixo!"
   ]
  },
  {
   "cell_type": "code",
   "execution_count": null,
   "metadata": {},
   "outputs": [],
   "source": [
    "t=-10:0.01:10;\n",
    "x=16*(power(sin(t),3));\n",
    "y=(13*cos(t))-(5*cos(2*t))-(2*cos(3*t))-(cos(4*t));\n",
    "plot(x,y)\n",
    "title(\"Heart with Octave\", 'Color','k','fontsize',18)"
   ]
  },
  {
   "cell_type": "markdown",
   "metadata": {},
   "source": [
    "### 6. Pacotes do Octave\n",
    "\n",
    "Da mesma forma que no Octave, no Jupyter vc precisa chamar os pacotes caso queira executar algo mais especial e próprio de um \"toolbox\" do Octave. Obviamente esses pacotes precisam estar previamente instalados na sua máquina. Olha a célula abaixo:"
   ]
  },
  {
   "cell_type": "code",
   "execution_count": null,
   "metadata": {},
   "outputs": [],
   "source": [
    "pkg load control;\n",
    "s = tf('s');\n",
    "G = 5/(s+2);\n",
    "step(G)"
   ]
  },
  {
   "cell_type": "markdown",
   "metadata": {},
   "source": [
    "### 7. Usando o Octave para mostrar arquivo png, jpg, etc.\n",
    "\n",
    "Se você tiver o pacote \"image\" instalado no seu Octave, voce pode usá-lo para mostrar uma figura e enriquecer ainda mais seu relatório. Veja na célula abaixo."
   ]
  },
  {
   "cell_type": "code",
   "execution_count": null,
   "metadata": {},
   "outputs": [],
   "source": [
    "pkg load image;\n",
    "imshow('ufsc.png');"
   ]
  },
  {
   "cell_type": "markdown",
   "metadata": {},
   "source": [
    "### Conclusão\n",
    "\n",
    "Moleza. Entregar um relatório assim ajuda vc e seu professor. E lembre-se, a primeira impressão é sempre a que fica, ainda mais para trabalhos que valem pontinhos preciosos!\n",
    "\n",
    "Bora trabalhar?"
   ]
  },
  {
   "cell_type": "code",
   "execution_count": null,
   "metadata": {},
   "outputs": [],
   "source": []
  },
  {
   "cell_type": "code",
   "execution_count": null,
   "metadata": {},
   "outputs": [],
   "source": []
  },
  {
   "cell_type": "code",
   "execution_count": null,
   "metadata": {},
   "outputs": [],
   "source": []
  },
  {
   "cell_type": "code",
   "execution_count": null,
   "metadata": {},
   "outputs": [],
   "source": []
  },
  {
   "cell_type": "code",
   "execution_count": null,
   "metadata": {},
   "outputs": [],
   "source": []
  }
 ],
 "metadata": {
  "kernelspec": {
   "display_name": "Octave",
   "language": "octave",
   "name": "octave"
  },
  "language_info": {
   "codemirror_mode": {
    "name": "ipython",
    "version": 3
   },
   "file_extension": ".py",
   "mimetype": "text/x-python",
   "name": "python",
   "nbconvert_exporter": "python",
   "pygments_lexer": "ipython3",
   "version": "3.8.8"
  }
 },
 "nbformat": 4,
 "nbformat_minor": 4
}
